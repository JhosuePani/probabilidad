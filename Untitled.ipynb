{
 "cells": [
  {
   "cell_type": "markdown",
   "id": "ade64050",
   "metadata": {},
   "source": [
    "**Kolmogorov:** Valor D"
   ]
  },
  {
   "cell_type": "code",
   "execution_count": 1,
   "id": "d1c7c823",
   "metadata": {},
   "outputs": [
    {
     "name": "stdout",
     "output_type": "stream",
     "text": [
      "Valor de la estadística D: 0.10655835882933884\n",
      "Valor p: 0.19195086834347397\n",
      "No rechazamos la hipótesis nula: Los datos siguen una distribución normal.\n"
     ]
    }
   ],
   "source": [
    "import numpy as np\n",
    "from scipy import stats\n",
    "\n",
    "# Generamos una muestra de datos (en este caso, datos aleatorios de una distribución normal)\n",
    "datos = np.random.normal(0, 1, 100)\n",
    "\n",
    "# Realizamos la prueba de Kolmogorov-Smirnov para comparar con una distribución normal\n",
    "resultado = stats.kstest(datos, 'norm')\n",
    "\n",
    "# Imprimimos los resultados\n",
    "print(\"Valor de la estadística D:\", resultado.statistic)\n",
    "print(\"Valor p:\", resultado.pvalue)\n",
    "\n",
    "# Comprobamos si rechazamos la hipótesis nula (que los datos siguen una distribución normal)\n",
    "nivel_de_significancia = 0.05\n",
    "if resultado.pvalue < nivel_de_significancia:\n",
    "    print(\"Rechazamos la hipótesis nula: Los datos no siguen una distribución normal.\")\n",
    "else:\n",
    "    print(\"No rechazamos la hipótesis nula: Los datos siguen una distribución normal.\")"
   ]
  },
  {
   "cell_type": "code",
   "execution_count": null,
   "id": "d1c21dc3",
   "metadata": {},
   "outputs": [],
   "source": [
    "import numpy as np\n",
    "from scipy.stats import ks_2samp\n",
    "\n",
    "# Generar dos conjuntos de datos (en este caso, distribuciones normales)\n",
    "datos1 = np.random.normal(0, 1, 100)\n",
    "datos2 = np.random.normal(0, 1, 100)\n",
    "\n",
    "# Aplicar la prueba de Kolmogorov-Smirnov\n",
    "estadistica_KS, valor_p = ks_2samp(datos1, datos2)\n",
    "\n",
    "# Imprimir los resultados\n",
    "print(f\"Estadística D: {estadistica_KS}\")\n",
    "print(f\"Valor p: {valor_p}\")\n",
    "\n",
    "# Interpretar los resultados\n",
    "if valor_p > 0.05:\n",
    "    print(\"No hay suficiente evidencia para rechazar la hipótesis nula.\")\n",
    "else:\n",
    "    print(\"Se rechaza la hipótesis nula, lo que sugiere que los datos no provienen de la misma distribución.\")"
   ]
  },
  {
   "cell_type": "markdown",
   "id": "c07217c2",
   "metadata": {},
   "source": [
    "Pruebaa parametricas compara media y varianza\n",
    "\n",
    "**Pruebas t:** Compara las medias, **pareada**(dos poblaciones relacionadas. es decir misma poblacion despues de un tiempo), de **dos muestras**(Poblaciones diferentes), **De una muestra**(de una poblacion sacar unn grupo de personas). Para cada una hay una formula diferente \n",
    "- **Una cola**(Media de una poblacion mayo o menor a la otra) o **dos colas**(comparar dos poblaciones)\n",
    "- "
   ]
  },
  {
   "cell_type": "code",
   "execution_count": null,
   "id": "3c775942",
   "metadata": {},
   "outputs": [],
   "source": []
  },
  {
   "cell_type": "code",
   "execution_count": null,
   "id": "274eb3ce",
   "metadata": {},
   "outputs": [],
   "source": []
  },
  {
   "cell_type": "code",
   "execution_count": null,
   "id": "4db2912e",
   "metadata": {},
   "outputs": [],
   "source": []
  },
  {
   "cell_type": "code",
   "execution_count": null,
   "id": "b0a6b695",
   "metadata": {},
   "outputs": [],
   "source": []
  }
 ],
 "metadata": {
  "kernelspec": {
   "display_name": "Python 3 (ipykernel)",
   "language": "python",
   "name": "python3"
  },
  "language_info": {
   "codemirror_mode": {
    "name": "ipython",
    "version": 3
   },
   "file_extension": ".py",
   "mimetype": "text/x-python",
   "name": "python",
   "nbconvert_exporter": "python",
   "pygments_lexer": "ipython3",
   "version": "3.10.9"
  }
 },
 "nbformat": 4,
 "nbformat_minor": 5
}
