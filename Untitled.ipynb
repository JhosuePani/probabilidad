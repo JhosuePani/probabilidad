{
 "cells": [
  {
   "cell_type": "markdown",
   "id": "9f49ec5f",
   "metadata": {},
   "source": [
    "### Distribuciones de probabilidad continua"
   ]
  },
  {
   "cell_type": "markdown",
   "id": "17096284",
   "metadata": {},
   "source": [
    "- Solo variables continuas \n",
    "- Probabilidad entre un rango de valores para que se pueda calcular la probabilidad\n",
    "- Funciones de densidad de probabilidad : Probabilidad de ocurrencia es el area bajo la curva, probbailidad acumulada igual(se pueden tener valores superiores a 1)"
   ]
  },
  {
   "cell_type": "markdown",
   "id": "dfedb4b5",
   "metadata": {},
   "source": [
    "**Distribucion normal**\n",
    "- Lo datos son simetricos y carecen de sesgo\n",
    "- Numeros reales \n",
    "- Media = Mediana = Moda \n",
    "- Curtosis y asimetria son nulos\n",
    "- Desviacion estandar da informacion de la escala (mas alta(menor desviacion) o achatada)\n",
    "- Media dice ubicacion(como eje x)"
   ]
  },
  {
   "cell_type": "markdown",
   "id": "35da4963",
   "metadata": {},
   "source": [
    "**Probabilidad acumulada**\n",
    "- **Tabla de distribucion normal** Es Para la distribucion acumulada de esa variable.  \n",
    "        Ejemplo:  0.91 : 0.9 filas, 0.01 columnas\n",
    "- Para estandarizar(Formula de las diapos : Z) variable - media / Desviacion estandar (Esto se hace para que se pueda hacer la tabla de probabilidad)\n",
    "\n",
    "**Ejemplo:**  El de las puntuaciones"
   ]
  },
  {
   "cell_type": "markdown",
   "id": "8c4a88cd",
   "metadata": {},
   "source": [
    "**Ejercicio**\n",
    "El de la estatura"
   ]
  },
  {
   "cell_type": "code",
   "execution_count": null,
   "id": "cbcf8c4e",
   "metadata": {},
   "outputs": [],
   "source": [
    "from scipy.stats import norm\n",
    "\n",
    "# Valores\n",
    "media = 170 \n",
    "desviacion = 5\n",
    "\n",
    "# terminarlo"
   ]
  }
 ],
 "metadata": {
  "kernelspec": {
   "display_name": "Python 3 (ipykernel)",
   "language": "python",
   "name": "python3"
  },
  "language_info": {
   "codemirror_mode": {
    "name": "ipython",
    "version": 3
   },
   "file_extension": ".py",
   "mimetype": "text/x-python",
   "name": "python",
   "nbconvert_exporter": "python",
   "pygments_lexer": "ipython3",
   "version": "3.10.9"
  }
 },
 "nbformat": 4,
 "nbformat_minor": 5
}
