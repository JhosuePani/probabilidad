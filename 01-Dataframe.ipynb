{
 "cells": [
  {
   "cell_type": "code",
   "execution_count": 3,
   "id": "65f55c84",
   "metadata": {},
   "outputs": [],
   "source": [
    "import numpy as np\n",
    "from scipy import stats\n",
    "import pandas as pd"
   ]
  },
  {
   "cell_type": "code",
   "execution_count": 5,
   "id": "5e18626a",
   "metadata": {},
   "outputs": [
    {
     "data": {
      "text/html": [
       "<div>\n",
       "<style scoped>\n",
       "    .dataframe tbody tr th:only-of-type {\n",
       "        vertical-align: middle;\n",
       "    }\n",
       "\n",
       "    .dataframe tbody tr th {\n",
       "        vertical-align: top;\n",
       "    }\n",
       "\n",
       "    .dataframe thead th {\n",
       "        text-align: right;\n",
       "    }\n",
       "</style>\n",
       "<table border=\"1\" class=\"dataframe\">\n",
       "  <thead>\n",
       "    <tr style=\"text-align: right;\">\n",
       "      <th></th>\n",
       "      <th># de estudiantes</th>\n",
       "      <th>Estrato</th>\n",
       "      <th>Edad</th>\n",
       "      <th># de metodos anticonceptivos conocidos</th>\n",
       "      <th># de relaciones que ha tenido</th>\n",
       "    </tr>\n",
       "  </thead>\n",
       "  <tbody>\n",
       "    <tr>\n",
       "      <th>0</th>\n",
       "      <td>1</td>\n",
       "      <td>3</td>\n",
       "      <td>15</td>\n",
       "      <td>5</td>\n",
       "      <td>7</td>\n",
       "    </tr>\n",
       "    <tr>\n",
       "      <th>1</th>\n",
       "      <td>2</td>\n",
       "      <td>3</td>\n",
       "      <td>17</td>\n",
       "      <td>1</td>\n",
       "      <td>1</td>\n",
       "    </tr>\n",
       "    <tr>\n",
       "      <th>2</th>\n",
       "      <td>3</td>\n",
       "      <td>3</td>\n",
       "      <td>16</td>\n",
       "      <td>5</td>\n",
       "      <td>0</td>\n",
       "    </tr>\n",
       "    <tr>\n",
       "      <th>3</th>\n",
       "      <td>4</td>\n",
       "      <td>3</td>\n",
       "      <td>15</td>\n",
       "      <td>6</td>\n",
       "      <td>3</td>\n",
       "    </tr>\n",
       "    <tr>\n",
       "      <th>4</th>\n",
       "      <td>5</td>\n",
       "      <td>3</td>\n",
       "      <td>15</td>\n",
       "      <td>3</td>\n",
       "      <td>0</td>\n",
       "    </tr>\n",
       "    <tr>\n",
       "      <th>5</th>\n",
       "      <td>6</td>\n",
       "      <td>4</td>\n",
       "      <td>15</td>\n",
       "      <td>8</td>\n",
       "      <td>2</td>\n",
       "    </tr>\n",
       "    <tr>\n",
       "      <th>6</th>\n",
       "      <td>7</td>\n",
       "      <td>3</td>\n",
       "      <td>16</td>\n",
       "      <td>7</td>\n",
       "      <td>8</td>\n",
       "    </tr>\n",
       "    <tr>\n",
       "      <th>7</th>\n",
       "      <td>8</td>\n",
       "      <td>4</td>\n",
       "      <td>17</td>\n",
       "      <td>9</td>\n",
       "      <td>9</td>\n",
       "    </tr>\n",
       "    <tr>\n",
       "      <th>8</th>\n",
       "      <td>9</td>\n",
       "      <td>3</td>\n",
       "      <td>18</td>\n",
       "      <td>8</td>\n",
       "      <td>3</td>\n",
       "    </tr>\n",
       "    <tr>\n",
       "      <th>9</th>\n",
       "      <td>10</td>\n",
       "      <td>3</td>\n",
       "      <td>16</td>\n",
       "      <td>10</td>\n",
       "      <td>8</td>\n",
       "    </tr>\n",
       "    <tr>\n",
       "      <th>10</th>\n",
       "      <td>11</td>\n",
       "      <td>3</td>\n",
       "      <td>14</td>\n",
       "      <td>11</td>\n",
       "      <td>7</td>\n",
       "    </tr>\n",
       "    <tr>\n",
       "      <th>11</th>\n",
       "      <td>12</td>\n",
       "      <td>2</td>\n",
       "      <td>16</td>\n",
       "      <td>4</td>\n",
       "      <td>7</td>\n",
       "    </tr>\n",
       "    <tr>\n",
       "      <th>12</th>\n",
       "      <td>13</td>\n",
       "      <td>3</td>\n",
       "      <td>18</td>\n",
       "      <td>5</td>\n",
       "      <td>2</td>\n",
       "    </tr>\n",
       "    <tr>\n",
       "      <th>13</th>\n",
       "      <td>14</td>\n",
       "      <td>3</td>\n",
       "      <td>15</td>\n",
       "      <td>6</td>\n",
       "      <td>0</td>\n",
       "    </tr>\n",
       "    <tr>\n",
       "      <th>14</th>\n",
       "      <td>15</td>\n",
       "      <td>3</td>\n",
       "      <td>16</td>\n",
       "      <td>8</td>\n",
       "      <td>3</td>\n",
       "    </tr>\n",
       "    <tr>\n",
       "      <th>15</th>\n",
       "      <td>16</td>\n",
       "      <td>3</td>\n",
       "      <td>17</td>\n",
       "      <td>2</td>\n",
       "      <td>2</td>\n",
       "    </tr>\n",
       "    <tr>\n",
       "      <th>16</th>\n",
       "      <td>17</td>\n",
       "      <td>3</td>\n",
       "      <td>17</td>\n",
       "      <td>9</td>\n",
       "      <td>3</td>\n",
       "    </tr>\n",
       "    <tr>\n",
       "      <th>17</th>\n",
       "      <td>18</td>\n",
       "      <td>2</td>\n",
       "      <td>17</td>\n",
       "      <td>3</td>\n",
       "      <td>3</td>\n",
       "    </tr>\n",
       "    <tr>\n",
       "      <th>18</th>\n",
       "      <td>19</td>\n",
       "      <td>3</td>\n",
       "      <td>14</td>\n",
       "      <td>7</td>\n",
       "      <td>3</td>\n",
       "    </tr>\n",
       "    <tr>\n",
       "      <th>19</th>\n",
       "      <td>20</td>\n",
       "      <td>3</td>\n",
       "      <td>15</td>\n",
       "      <td>9</td>\n",
       "      <td>2</td>\n",
       "    </tr>\n",
       "    <tr>\n",
       "      <th>20</th>\n",
       "      <td>21</td>\n",
       "      <td>3</td>\n",
       "      <td>16</td>\n",
       "      <td>8</td>\n",
       "      <td>7</td>\n",
       "    </tr>\n",
       "    <tr>\n",
       "      <th>21</th>\n",
       "      <td>22</td>\n",
       "      <td>3</td>\n",
       "      <td>18</td>\n",
       "      <td>6</td>\n",
       "      <td>1</td>\n",
       "    </tr>\n",
       "    <tr>\n",
       "      <th>22</th>\n",
       "      <td>23</td>\n",
       "      <td>3</td>\n",
       "      <td>19</td>\n",
       "      <td>7</td>\n",
       "      <td>8</td>\n",
       "    </tr>\n",
       "    <tr>\n",
       "      <th>23</th>\n",
       "      <td>24</td>\n",
       "      <td>3</td>\n",
       "      <td>17</td>\n",
       "      <td>8</td>\n",
       "      <td>0</td>\n",
       "    </tr>\n",
       "    <tr>\n",
       "      <th>24</th>\n",
       "      <td>25</td>\n",
       "      <td>2</td>\n",
       "      <td>14</td>\n",
       "      <td>2</td>\n",
       "      <td>0</td>\n",
       "    </tr>\n",
       "    <tr>\n",
       "      <th>25</th>\n",
       "      <td>26</td>\n",
       "      <td>3</td>\n",
       "      <td>15</td>\n",
       "      <td>3</td>\n",
       "      <td>0</td>\n",
       "    </tr>\n",
       "    <tr>\n",
       "      <th>26</th>\n",
       "      <td>27</td>\n",
       "      <td>3</td>\n",
       "      <td>15</td>\n",
       "      <td>4</td>\n",
       "      <td>0</td>\n",
       "    </tr>\n",
       "    <tr>\n",
       "      <th>27</th>\n",
       "      <td>28</td>\n",
       "      <td>3</td>\n",
       "      <td>16</td>\n",
       "      <td>3</td>\n",
       "      <td>0</td>\n",
       "    </tr>\n",
       "    <tr>\n",
       "      <th>28</th>\n",
       "      <td>29</td>\n",
       "      <td>3</td>\n",
       "      <td>19</td>\n",
       "      <td>9</td>\n",
       "      <td>0</td>\n",
       "    </tr>\n",
       "    <tr>\n",
       "      <th>29</th>\n",
       "      <td>30</td>\n",
       "      <td>2</td>\n",
       "      <td>16</td>\n",
       "      <td>7</td>\n",
       "      <td>0</td>\n",
       "    </tr>\n",
       "  </tbody>\n",
       "</table>\n",
       "</div>"
      ],
      "text/plain": [
       "    # de estudiantes  Estrato  Edad  # de metodos anticonceptivos conocidos  \\\n",
       "0                  1        3    15                                       5   \n",
       "1                  2        3    17                                       1   \n",
       "2                  3        3    16                                       5   \n",
       "3                  4        3    15                                       6   \n",
       "4                  5        3    15                                       3   \n",
       "5                  6        4    15                                       8   \n",
       "6                  7        3    16                                       7   \n",
       "7                  8        4    17                                       9   \n",
       "8                  9        3    18                                       8   \n",
       "9                 10        3    16                                      10   \n",
       "10                11        3    14                                      11   \n",
       "11                12        2    16                                       4   \n",
       "12                13        3    18                                       5   \n",
       "13                14        3    15                                       6   \n",
       "14                15        3    16                                       8   \n",
       "15                16        3    17                                       2   \n",
       "16                17        3    17                                       9   \n",
       "17                18        2    17                                       3   \n",
       "18                19        3    14                                       7   \n",
       "19                20        3    15                                       9   \n",
       "20                21        3    16                                       8   \n",
       "21                22        3    18                                       6   \n",
       "22                23        3    19                                       7   \n",
       "23                24        3    17                                       8   \n",
       "24                25        2    14                                       2   \n",
       "25                26        3    15                                       3   \n",
       "26                27        3    15                                       4   \n",
       "27                28        3    16                                       3   \n",
       "28                29        3    19                                       9   \n",
       "29                30        2    16                                       7   \n",
       "\n",
       "    # de relaciones que ha tenido  \n",
       "0                               7  \n",
       "1                               1  \n",
       "2                               0  \n",
       "3                               3  \n",
       "4                               0  \n",
       "5                               2  \n",
       "6                               8  \n",
       "7                               9  \n",
       "8                               3  \n",
       "9                               8  \n",
       "10                              7  \n",
       "11                              7  \n",
       "12                              2  \n",
       "13                              0  \n",
       "14                              3  \n",
       "15                              2  \n",
       "16                              3  \n",
       "17                              3  \n",
       "18                              3  \n",
       "19                              2  \n",
       "20                              7  \n",
       "21                              1  \n",
       "22                              8  \n",
       "23                              0  \n",
       "24                              0  \n",
       "25                              0  \n",
       "26                              0  \n",
       "27                              0  \n",
       "28                              0  \n",
       "29                              0  "
      ]
     },
     "execution_count": 5,
     "metadata": {},
     "output_type": "execute_result"
    }
   ],
   "source": [
    "file = pd.read_csv(r\"C:\\Users\\Soportedrai\\Desktop\\educacion_sexual.csv\", sep= \";\")\n",
    "# sep es para delimitar los datos bien\n",
    "file"
   ]
  },
  {
   "cell_type": "code",
   "execution_count": 35,
   "id": "3daf26b1",
   "metadata": {},
   "outputs": [
    {
     "data": {
      "text/plain": [
       "# de estudiantes                          15.500000\n",
       "Estrato                                    2.933333\n",
       "Edad                                      16.133333\n",
       "# de metodos anticonceptivos conocidos     6.100000\n",
       "# de relaciones que ha tenido              2.966667\n",
       "dtype: float64"
      ]
     },
     "execution_count": 35,
     "metadata": {},
     "output_type": "execute_result"
    }
   ],
   "source": [
    "# Hallar la media con numpy\n",
    "mean = np.mean(file['Edad'])\n",
    "# Hallar la media con python\n",
    "media = file['Edad'].mean()\n",
    "# hallar la media de todas las columnas, el axis=1 es para cuendo se quiere hallar la media de la fila\n",
    "all_mean = file.mean(axis= 0)\n",
    "\n",
    "all_mean"
   ]
  },
  {
   "cell_type": "code",
   "execution_count": 36,
   "id": "1408be85",
   "metadata": {},
   "outputs": [
    {
     "data": {
      "text/plain": [
       "('Calculo la media con pandas',\n",
       " # de estudiantes                          15.5\n",
       " Estrato                                    3.0\n",
       " Edad                                      16.0\n",
       " # de metodos anticonceptivos conocidos     6.5\n",
       " # de relaciones que ha tenido              2.0\n",
       " dtype: float64,\n",
       " '\\n')"
      ]
     },
     "execution_count": 36,
     "metadata": {},
     "output_type": "execute_result"
    }
   ],
   "source": [
    "# Hallar la mediana con numpy \n",
    "median1 = np.median(file, 0) # el cero para que lo haga en las columnas\n",
    "# Hallar la media con pandas\n",
    "median2 = file.median()\n",
    "'Calculo la media con numpy', median1, \"\\n\"\n",
    "'Calculo la media con pandas', median2, \"\\n\""
   ]
  },
  {
   "cell_type": "code",
   "execution_count": 37,
   "id": "caef9e23",
   "metadata": {},
   "outputs": [
    {
     "name": "stderr",
     "output_type": "stream",
     "text": [
      "C:\\Users\\Soportedrai\\AppData\\Local\\Temp\\ipykernel_3900\\297965893.py:2: FutureWarning: Unlike other reduction functions (e.g. `skew`, `kurtosis`), the default behavior of `mode` typically preserves the axis it acts along. In SciPy 1.11.0, this behavior will change: the default value of `keepdims` will become False, the `axis` over which the statistic is taken will be eliminated, and the value None will no longer be accepted. Set `keepdims` to True or False to avoid this warning.\n",
      "  mode = stats.mode(file)\n"
     ]
    },
    {
     "data": {
      "text/plain": [
       "ModeResult(mode=array([[ 1,  3, 15,  8,  0]], dtype=int64), count=array([[ 1, 24,  8,  5, 10]]))"
      ]
     },
     "execution_count": 37,
     "metadata": {},
     "output_type": "execute_result"
    }
   ],
   "source": [
    "# Hallar la moda\n",
    "mode = stats.mode(file)\n",
    "mode"
   ]
  },
  {
   "cell_type": "code",
   "execution_count": 40,
   "id": "d660d528",
   "metadata": {},
   "outputs": [
    {
     "data": {
      "text/html": [
       "<div>\n",
       "<style scoped>\n",
       "    .dataframe tbody tr th:only-of-type {\n",
       "        vertical-align: middle;\n",
       "    }\n",
       "\n",
       "    .dataframe tbody tr th {\n",
       "        vertical-align: top;\n",
       "    }\n",
       "\n",
       "    .dataframe thead th {\n",
       "        text-align: right;\n",
       "    }\n",
       "</style>\n",
       "<table border=\"1\" class=\"dataframe\">\n",
       "  <thead>\n",
       "    <tr style=\"text-align: right;\">\n",
       "      <th></th>\n",
       "      <th># de estudiantes</th>\n",
       "      <th>Estrato</th>\n",
       "      <th>Edad</th>\n",
       "      <th># de metodos anticonceptivos conocidos</th>\n",
       "      <th># de relaciones que ha tenido</th>\n",
       "    </tr>\n",
       "  </thead>\n",
       "  <tbody>\n",
       "    <tr>\n",
       "      <th>count</th>\n",
       "      <td>30.000000</td>\n",
       "      <td>30.000000</td>\n",
       "      <td>30.000000</td>\n",
       "      <td>30.000000</td>\n",
       "      <td>30.000000</td>\n",
       "    </tr>\n",
       "    <tr>\n",
       "      <th>mean</th>\n",
       "      <td>15.500000</td>\n",
       "      <td>2.933333</td>\n",
       "      <td>16.133333</td>\n",
       "      <td>6.100000</td>\n",
       "      <td>2.966667</td>\n",
       "    </tr>\n",
       "    <tr>\n",
       "      <th>std</th>\n",
       "      <td>8.803408</td>\n",
       "      <td>0.449776</td>\n",
       "      <td>1.382984</td>\n",
       "      <td>2.656806</td>\n",
       "      <td>3.090400</td>\n",
       "    </tr>\n",
       "    <tr>\n",
       "      <th>min</th>\n",
       "      <td>1.000000</td>\n",
       "      <td>2.000000</td>\n",
       "      <td>14.000000</td>\n",
       "      <td>1.000000</td>\n",
       "      <td>0.000000</td>\n",
       "    </tr>\n",
       "    <tr>\n",
       "      <th>25%</th>\n",
       "      <td>8.250000</td>\n",
       "      <td>3.000000</td>\n",
       "      <td>15.000000</td>\n",
       "      <td>4.000000</td>\n",
       "      <td>0.000000</td>\n",
       "    </tr>\n",
       "    <tr>\n",
       "      <th>50%</th>\n",
       "      <td>15.500000</td>\n",
       "      <td>3.000000</td>\n",
       "      <td>16.000000</td>\n",
       "      <td>6.500000</td>\n",
       "      <td>2.000000</td>\n",
       "    </tr>\n",
       "    <tr>\n",
       "      <th>75%</th>\n",
       "      <td>22.750000</td>\n",
       "      <td>3.000000</td>\n",
       "      <td>17.000000</td>\n",
       "      <td>8.000000</td>\n",
       "      <td>6.000000</td>\n",
       "    </tr>\n",
       "    <tr>\n",
       "      <th>max</th>\n",
       "      <td>30.000000</td>\n",
       "      <td>4.000000</td>\n",
       "      <td>19.000000</td>\n",
       "      <td>11.000000</td>\n",
       "      <td>9.000000</td>\n",
       "    </tr>\n",
       "  </tbody>\n",
       "</table>\n",
       "</div>"
      ],
      "text/plain": [
       "       # de estudiantes    Estrato       Edad  \\\n",
       "count         30.000000  30.000000  30.000000   \n",
       "mean          15.500000   2.933333  16.133333   \n",
       "std            8.803408   0.449776   1.382984   \n",
       "min            1.000000   2.000000  14.000000   \n",
       "25%            8.250000   3.000000  15.000000   \n",
       "50%           15.500000   3.000000  16.000000   \n",
       "75%           22.750000   3.000000  17.000000   \n",
       "max           30.000000   4.000000  19.000000   \n",
       "\n",
       "       # de metodos anticonceptivos conocidos  # de relaciones que ha tenido  \n",
       "count                               30.000000                      30.000000  \n",
       "mean                                 6.100000                       2.966667  \n",
       "std                                  2.656806                       3.090400  \n",
       "min                                  1.000000                       0.000000  \n",
       "25%                                  4.000000                       0.000000  \n",
       "50%                                  6.500000                       2.000000  \n",
       "75%                                  8.000000                       6.000000  \n",
       "max                                 11.000000                       9.000000  "
      ]
     },
     "execution_count": 40,
     "metadata": {},
     "output_type": "execute_result"
    }
   ],
   "source": [
    "# Hallar como un resumen\n",
    "resume = file.describe()\n",
    "resume"
   ]
  },
  {
   "cell_type": "code",
   "execution_count": 41,
   "id": "d3a0dff4",
   "metadata": {},
   "outputs": [
    {
     "data": {
      "text/plain": [
       "# de estudiantes                          465\n",
       "Estrato                                    88\n",
       "Edad                                      484\n",
       "# de metodos anticonceptivos conocidos    183\n",
       "# de relaciones que ha tenido              89\n",
       "dtype: int64"
      ]
     },
     "execution_count": 41,
     "metadata": {},
     "output_type": "execute_result"
    }
   ],
   "source": [
    "# Para sumar las columnas\n",
    "file.sum()"
   ]
  },
  {
   "cell_type": "markdown",
   "id": "330d748a",
   "metadata": {},
   "source": [
    "**Graficos y diagramas de representacion**\n",
    "----"
   ]
  },
  {
   "cell_type": "code",
   "execution_count": 52,
   "id": "57daf843",
   "metadata": {},
   "outputs": [],
   "source": [
    "from matplotlib import pyplot as plt"
   ]
  },
  {
   "cell_type": "code",
   "execution_count": 46,
   "id": "ba70404a",
   "metadata": {},
   "outputs": [
    {
     "data": {
      "text/html": [
       "<div>\n",
       "<style scoped>\n",
       "    .dataframe tbody tr th:only-of-type {\n",
       "        vertical-align: middle;\n",
       "    }\n",
       "\n",
       "    .dataframe tbody tr th {\n",
       "        vertical-align: top;\n",
       "    }\n",
       "\n",
       "    .dataframe thead th {\n",
       "        text-align: right;\n",
       "    }\n",
       "</style>\n",
       "<table border=\"1\" class=\"dataframe\">\n",
       "  <thead>\n",
       "    <tr style=\"text-align: right;\">\n",
       "      <th></th>\n",
       "      <th>GENERO</th>\n",
       "      <th>EDAD</th>\n",
       "      <th>NIVEL DE COLESTEROL (mg / 100 ml)</th>\n",
       "    </tr>\n",
       "  </thead>\n",
       "  <tbody>\n",
       "    <tr>\n",
       "      <th>0</th>\n",
       "      <td>Masculino</td>\n",
       "      <td>55</td>\n",
       "      <td>88-119</td>\n",
       "    </tr>\n",
       "    <tr>\n",
       "      <th>1</th>\n",
       "      <td>Femenino</td>\n",
       "      <td>62</td>\n",
       "      <td>120-159</td>\n",
       "    </tr>\n",
       "    <tr>\n",
       "      <th>2</th>\n",
       "      <td>Femenino</td>\n",
       "      <td>55</td>\n",
       "      <td>160-199</td>\n",
       "    </tr>\n",
       "    <tr>\n",
       "      <th>3</th>\n",
       "      <td>Masculino</td>\n",
       "      <td>63</td>\n",
       "      <td>120-159</td>\n",
       "    </tr>\n",
       "    <tr>\n",
       "      <th>4</th>\n",
       "      <td>Masculino</td>\n",
       "      <td>62</td>\n",
       "      <td>120-159</td>\n",
       "    </tr>\n",
       "    <tr>\n",
       "      <th>5</th>\n",
       "      <td>Masculino</td>\n",
       "      <td>55</td>\n",
       "      <td>88-119</td>\n",
       "    </tr>\n",
       "    <tr>\n",
       "      <th>6</th>\n",
       "      <td>Femenino</td>\n",
       "      <td>63</td>\n",
       "      <td>160-199</td>\n",
       "    </tr>\n",
       "    <tr>\n",
       "      <th>7</th>\n",
       "      <td>Femenino</td>\n",
       "      <td>55</td>\n",
       "      <td>120-159</td>\n",
       "    </tr>\n",
       "    <tr>\n",
       "      <th>8</th>\n",
       "      <td>Masculino</td>\n",
       "      <td>55</td>\n",
       "      <td>88-119</td>\n",
       "    </tr>\n",
       "    <tr>\n",
       "      <th>9</th>\n",
       "      <td>Masculino</td>\n",
       "      <td>56</td>\n",
       "      <td>88-119</td>\n",
       "    </tr>\n",
       "    <tr>\n",
       "      <th>10</th>\n",
       "      <td>Femenino</td>\n",
       "      <td>57</td>\n",
       "      <td>120-159</td>\n",
       "    </tr>\n",
       "    <tr>\n",
       "      <th>11</th>\n",
       "      <td>Masculino</td>\n",
       "      <td>62</td>\n",
       "      <td>88-119</td>\n",
       "    </tr>\n",
       "    <tr>\n",
       "      <th>12</th>\n",
       "      <td>Masculino</td>\n",
       "      <td>63</td>\n",
       "      <td>120-159</td>\n",
       "    </tr>\n",
       "    <tr>\n",
       "      <th>13</th>\n",
       "      <td>Femenino</td>\n",
       "      <td>56</td>\n",
       "      <td>88-119</td>\n",
       "    </tr>\n",
       "    <tr>\n",
       "      <th>14</th>\n",
       "      <td>Femenino</td>\n",
       "      <td>55</td>\n",
       "      <td>88-119</td>\n",
       "    </tr>\n",
       "    <tr>\n",
       "      <th>15</th>\n",
       "      <td>Masculino</td>\n",
       "      <td>62</td>\n",
       "      <td>160-199</td>\n",
       "    </tr>\n",
       "  </tbody>\n",
       "</table>\n",
       "</div>"
      ],
      "text/plain": [
       "       GENERO  EDAD NIVEL DE COLESTEROL (mg / 100 ml)\n",
       "0   Masculino    55                            88-119\n",
       "1    Femenino    62                           120-159\n",
       "2    Femenino    55                           160-199\n",
       "3   Masculino    63                           120-159\n",
       "4   Masculino    62                           120-159\n",
       "5   Masculino    55                            88-119\n",
       "6    Femenino    63                           160-199\n",
       "7    Femenino    55                           120-159\n",
       "8   Masculino    55                            88-119\n",
       "9   Masculino    56                            88-119\n",
       "10   Femenino    57                           120-159\n",
       "11  Masculino    62                            88-119\n",
       "12  Masculino    63                           120-159\n",
       "13   Femenino    56                            88-119\n",
       "14   Femenino    55                            88-119\n",
       "15  Masculino    62                           160-199"
      ]
     },
     "execution_count": 46,
     "metadata": {},
     "output_type": "execute_result"
    }
   ],
   "source": [
    "db_colesterol = pd.read_csv(r\"C:\\Users\\Soportedrai\\Desktop\\colesterol.csv\", sep= \";\")\n",
    "db_colesterol"
   ]
  },
  {
   "cell_type": "markdown",
   "id": "487672c7",
   "metadata": {},
   "source": [
    "Grafico Circular\n",
    "----"
   ]
  },
  {
   "cell_type": "code",
   "execution_count": 51,
   "id": "af3ab521",
   "metadata": {},
   "outputs": [
    {
     "data": {
      "image/png": "[encoded data removed]",
      "text/plain": [
       "<Figure size 640x480 with 1 Axes>"
      ]
     },
     "metadata": {},
     "output_type": "display_data"
    }
   ],
   "source": [
    "frec_absoluta_genero = db_colesterol['GENERO'].value_counts()\n",
    "plot = frec_absoluta_genero.plot(kind= 'pie', title= 'Genero')"
   ]
  },
  {
   "cell_type": "code",
   "execution_count": 53,
   "id": "0565a0f4",
   "metadata": {},
   "outputs": [
    {
     "data": {
      "image/png": "[encoded data removed]",
      "text/plain": [
       "<Figure size 640x480 with 1 Axes>"
      ]
     },
     "metadata": {},
     "output_type": "display_data"
    }
   ],
   "source": [
    "# Usando matplotlib\n",
    "names = db_colesterol['GENERO'].unique()\n",
    "plt.pie(frec_absoluta_genero, labels = names)\n",
    "plt.title(\"Generos\")\n",
    "plt.show()"
   ]
  },
  {
   "cell_type": "markdown",
   "id": "7cb3a2b7",
   "metadata": {},
   "source": [
    "Grafico De barras\n",
    "----"
   ]
  },
  {
   "cell_type": "code",
   "execution_count": 61,
   "id": "9ef76d27",
   "metadata": {},
   "outputs": [
    {
     "data": {
      "image/png": "[encoded data removed]",
      "text/plain": [
       "<Figure size 640x480 with 1 Axes>"
      ]
     },
     "metadata": {},
     "output_type": "display_data"
    }
   ],
   "source": [
    "# Usando matplotlib\n",
    "names = db_colesterol['GENERO'].unique()\n",
    "plt.bar(names, frec_absoluta_genero)\n",
    "plt.title(\"Generos\")\n",
    "plt.show()"
   ]
  },
  {
   "cell_type": "code",
   "execution_count": 67,
   "id": "e541bbe4",
   "metadata": {},
   "outputs": [
    {
     "data": {
      "image/png": "[encoded data removed]",
      "text/plain": [
       "<Figure size 640x480 with 1 Axes>"
      ]
     },
     "metadata": {},
     "output_type": "display_data"
    }
   ],
   "source": [
    "frec_absoluta_edades = db_colesterol['EDAD'].value_counts() \n",
    "\n",
    "names = db_colesterol['EDAD'].unique()\n",
    "plt.bar(names, frec_absoluta_edades)\n",
    "plt.title(\"Edades\")\n",
    "plt.show()"
   ]
  },
  {
   "cell_type": "markdown",
   "id": "cbca9952",
   "metadata": {},
   "source": [
    "Grafica barras agrupadas\n",
    "----"
   ]
  },
  {
   "cell_type": "code",
   "execution_count": 63,
   "id": "6e28267a",
   "metadata": {},
   "outputs": [
    {
     "data": {
      "image/png": "[encoded data removed]",
      "text/plain": [
       "<Figure size 640x480 with 1 Axes>"
      ]
     },
     "metadata": {},
     "output_type": "display_data"
    }
   ],
   "source": [
    "plot = pd.crosstab(index= db_colesterol['EDAD'], columns= db_colesterol['GENERO']).plot(kind= 'bar', title= 'Edad y Genero')"
   ]
  },
  {
   "cell_type": "markdown",
   "id": "b1ae212c",
   "metadata": {},
   "source": [
    "Grafico de barras apilados\n",
    "----"
   ]
  },
  {
   "cell_type": "code",
   "execution_count": 69,
   "id": "6cd1ed99",
   "metadata": {},
   "outputs": [
    {
     "data": {
      "image/png": "[encoded data removed]",
      "text/plain": [
       "<Figure size 640x480 with 1 Axes>"
      ]
     },
     "metadata": {},
     "output_type": "display_data"
    }
   ],
   "source": [
    "plot = pd.crosstab(index= db_colesterol['EDAD'], columns= db_colesterol['GENERO']).plot(kind= 'bar', stacked= True, title= 'Edad y Genero')"
   ]
  },
  {
   "cell_type": "code",
   "execution_count": 71,
   "id": "82c4192d",
   "metadata": {},
   "outputs": [
    {
     "data": {
      "image/png": "[encoded data removed]",
      "text/plain": [
       "<Figure size 640x480 with 1 Axes>"
      ]
     },
     "metadata": {},
     "output_type": "display_data"
    }
   ],
   "source": [
    "plot = pd.crosstab(index= db_colesterol['EDAD'], columns= db_colesterol['NIVEL DE COLESTEROL (mg / 100 ml)']).plot(kind= 'bar', stacked= True, title= 'Edad y Genero')"
   ]
  },
  {
   "cell_type": "markdown",
   "id": "f793573f",
   "metadata": {},
   "source": [
    "**Histograma**\n",
    "----"
   ]
  },
  {
   "cell_type": "code",
   "execution_count": null,
   "id": "53fc35a5",
   "metadata": {},
   "outputs": [],
   "source": []
  }
 ],
 "metadata": {
  "kernelspec": {
   "display_name": "Python 3 (ipykernel)",
   "language": "python",
   "name": "python3"
  },
  "language_info": {
   "codemirror_mode": {
    "name": "ipython",
    "version": 3
   },
   "file_extension": ".py",
   "mimetype": "text/x-python",
   "name": "python",
   "nbconvert_exporter": "python",
   "pygments_lexer": "ipython3",
   "version": "3.10.9"
  }
 },
 "nbformat": 4,
 "nbformat_minor": 5
}
